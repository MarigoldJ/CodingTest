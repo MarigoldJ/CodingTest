{
 "cells": [
  {
   "cell_type": "markdown",
   "metadata": {},
   "source": [
    "# 이론"
   ]
  },
  {
   "cell_type": "markdown",
   "metadata": {},
   "source": [
    "DFS (Death-First Search)\n",
    "* 깊이 우선 탐색\n",
    "* 스택 자료구조\n",
    "    1. 현재 탐색 중인 노드가 스택에 들어감\n",
    "    2. 최상단 노드의 인접한 노드 확인 후 아래 진행\n",
    "        * 방문하지 않은 노드가 있으면 그 중 하나를 스택에 넣음\n",
    "        * 방문하지 않은 노드가 없으면 최상단 노드를 스택에서 꺼냄\n",
    "    3. 2를 반복함.\n",
    "---\n",
    "BFS (Breath-First Search)\n",
    "* 너비 우선 탐색\n",
    "* 큐 자료구조\n",
    "    1. 현재 탐색 중인 노드가 큐에 들어감\n",
    "    2. 큐에서 노드를 꺼냄\n",
    "    3. 2에서 꺼낸 노드와 인접한 노드 중 방문하지 않은 노드를 큐에 넣음.\n",
    "    4. 2~3을 반복"
   ]
  },
  {
   "cell_type": "markdown",
   "metadata": {},
   "source": [
    "# 문제"
   ]
  },
  {
   "cell_type": "markdown",
   "metadata": {},
   "source": [
    "## 문제 1. 음료수 얼려먹기"
   ]
  },
  {
   "cell_type": "markdown",
   "metadata": {},
   "source": [
    "문제 설명\n",
    "* 첫번 째 줄에 얼음 틀의 세로길이 N, 가로길이 M이 주어짐.\n",
    "* 두번째 줄부터 N+1번째 줄까지 얼음 틀의 형태가 주어짐.\n",
    "    * 구멍 뚫려있으면 0, 아니면 1로 표현\n",
    "* 이때 한번에 만들 수 있는 아이스크림 개수를 출력하기\n",
    "    * 0인 부분을 최대한 서로 연결할 때, 몇 묶음이 나오는지 확인할 것\n",
    "---\n",
    "풀이 전략\n",
    "* 내 풀이\n",
    "    * 잘 모르겠다\n",
    "* 답안 예시\n",
    "    * DFS 활용\n",
    "        * 0 -> 방문하지 않은 노드\n",
    "        * 1 -> 방문한 노드"
   ]
  },
  {
   "cell_type": "code",
   "execution_count": 30,
   "metadata": {},
   "outputs": [
    {
     "name": "stdout",
     "output_type": "stream",
     "text": [
      "4 5\n",
      "00110\n",
      "00011\n",
      "11111\n",
      "00000\n",
      "3\n"
     ]
    }
   ],
   "source": [
    "# 답안 예시를 보고 생각해본 내 풀이\n",
    "\n",
    "n, m = map(int, input().split())\n",
    "ice = []\n",
    "for i in range(n):\n",
    "    ice.append(list(input()))\n",
    "\n",
    "\n",
    "# 1로 만드는 탐색하기!\n",
    "def dfs(x, y):\n",
    "    ice[x][y] = '1'\n",
    "    dx = [-1, 1, 0, 0]\n",
    "    dy = [0, 0, -1, 1]\n",
    "    \n",
    "    for i in range(4):\n",
    "        if (0<=x+dx[i]<n) and (0<=y+dy[i]<m):\n",
    "            if ice[x+dx[i]][y+dy[i]] == '0':\n",
    "                dfs(x+dx[i], y+dy[i])\n",
    "    \n",
    "    return 1\n",
    "\n",
    "# 아이스크림 수\n",
    "cnt = 0\n",
    "\n",
    "# 모두 1이 될때까지 시행\n",
    "for x in range(n):\n",
    "    for y in range(m):\n",
    "        if ice[x][y] == '0':\n",
    "            cnt += dfs(x, y)\n",
    "\n",
    "print(cnt)"
   ]
  },
  {
   "cell_type": "code",
   "execution_count": null,
   "metadata": {},
   "outputs": [],
   "source": []
  },
  {
   "cell_type": "markdown",
   "metadata": {},
   "source": [
    "## 문제 2. 미로 탈출"
   ]
  },
  {
   "cell_type": "markdown",
   "metadata": {},
   "source": [
    "문제 설명\n",
    "* 첫째 줄에 두 정수 N, M이 주어짐.\n",
    "* 다음 N개 줄에 M개 정수(0 or 1)가 주어짐 \n",
    "    * 0은 막힌 곳, 1은 지나갈 수 있는 곳\n",
    "* 시작위치 (1, 1), 출구는 (N, M)일때 탈출을 위해 움직여야 하는 최소 칸의 개수를 구하시오.\n",
    "---\n",
    "풀이 전략\n",
    "* 내 풀이\n",
    "    * 뭔가 BFS가 최단거리 구할 때 좋다고 들어서 써야할 것 같다\n",
    "    * 근데 어떻게 쓸지는 잘 감이 안잡힌다.\n",
    "* 답안 예시\n",
    "    * BFS 활용\n",
    "        * 큐가 빌 때 까지 탐색을 반복\n",
    "        * 탐색할 때, 해당 노드까지 최단 거리를 적음\n",
    "        * 탐색이 종료되면, 출구 노드에 적힌 최단 거리를 불러옴\n"
   ]
  },
  {
   "cell_type": "code",
   "execution_count": null,
   "metadata": {},
   "outputs": [],
   "source": []
  }
 ],
 "metadata": {
  "kernelspec": {
   "display_name": "Python 3",
   "language": "python",
   "name": "python3"
  },
  "language_info": {
   "codemirror_mode": {
    "name": "ipython",
    "version": 3
   },
   "file_extension": ".py",
   "mimetype": "text/x-python",
   "name": "python",
   "nbconvert_exporter": "python",
   "pygments_lexer": "ipython3",
   "version": "3.8.5"
  }
 },
 "nbformat": 4,
 "nbformat_minor": 4
}
