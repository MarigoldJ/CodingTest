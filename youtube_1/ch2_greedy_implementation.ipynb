{
 "cells": [
  {
   "cell_type": "markdown",
   "metadata": {},
   "source": [
    "# "
   ]
  },
  {
   "cell_type": "markdown",
   "metadata": {},
   "source": [
    "# 그리디 (Greedy) 알고리즘"
   ]
  },
  {
   "cell_type": "markdown",
   "metadata": {},
   "source": [
    "## 문제1. 거스름돈"
   ]
  },
  {
   "cell_type": "markdown",
   "metadata": {},
   "source": [
    "문제 설명\n",
    "* 500, 100, 50, 10원 4종류의 동전을 최소한만 사용해서 거스름돈을 돌려주는 방법\n",
    "---\n",
    "풀이 전략\n",
    "* 가장 큰 화폐 단위를 최대한 사용하여 거스름돈 주기\n",
    "    * 이유 : 가진 동전을 보면 큰 단위가 항상 작은 단위의 배수이므로 가능!"
   ]
  },
  {
   "cell_type": "code",
   "execution_count": 4,
   "metadata": {},
   "outputs": [
    {
     "name": "stdout",
     "output_type": "stream",
     "text": [
      "1260\n",
      "6\n"
     ]
    }
   ],
   "source": [
    "n = int(input())\n",
    "count = 0\n",
    "\n",
    "coin_list = [500, 100, 50, 10]\n",
    "\n",
    "for coin in coin_list:  # 화폐 종류만큼 반복됨\n",
    "    count += n // coin\n",
    "    n %= coin\n",
    "\n",
    "print(count)"
   ]
  },
  {
   "cell_type": "markdown",
   "metadata": {},
   "source": [
    "## 문제2. 1이 될때까지"
   ]
  },
  {
   "cell_type": "markdown",
   "metadata": {},
   "source": [
    "문제 설명\n",
    "* N이 1이 될때까지 다음 두 과정 중 하나를 반복 수행한다.\n",
    "    1. N -> N-1\n",
    "    2. N / K    (N이 K로 나누어 떨어질때만 가능)\n",
    "* 이때 수행 최소 횟수를 구하시오.\n",
    "* 입력값 : N K\n",
    "* 출력값 : 최소 수행 횟수\n",
    "---\n",
    "풀이 전략\n",
    "* 최대한 2번 시행을 많이 해야함. 그래야 1번 시행의 횟수를 줄일 수 있음"
   ]
  },
  {
   "cell_type": "code",
   "execution_count": 3,
   "metadata": {},
   "outputs": [
    {
     "name": "stdout",
     "output_type": "stream",
     "text": [
      "25 4\n",
      "5\n"
     ]
    }
   ],
   "source": [
    "n, k = map(int, input().split())\n",
    "result = 0\n",
    "\n",
    "while True:\n",
    "    # n에서 1번 시행을 몇번해야 k로 나누어떨어지는지 구하기\n",
    "    target = (n // k) * k\n",
    "    result += (n - target)\n",
    "    n = target\n",
    "    \n",
    "    # n이 여전히 k로 나눌 수 있는지 확인\n",
    "    if n < k:\n",
    "        break\n",
    "    \n",
    "    # K로 나누기\n",
    "    result += 1\n",
    "    n //= k\n",
    "\n",
    "# k로 나누지 못하는 n을 이제 1씩 빼주면 됨\n",
    "result += (n - 1)\n",
    "print(result)\n",
    "    "
   ]
  },
  {
   "cell_type": "markdown",
   "metadata": {},
   "source": [
    "## 문제3. 곱하기 혹은 더하기"
   ]
  },
  {
   "cell_type": "markdown",
   "metadata": {},
   "source": [
    "문제 설명\n",
    "* 숫자가 나열되어 있을때, 가장 왼쪽 숫자 2개가 곱하기 혹은 더하기를 하는 과정을 반복.\n",
    "* 나올 수 있는 가장 큰 수를 출력하기\n",
    "---\n",
    "풀이 전략\n",
    "* 개인풀이\n",
    "    * 0이나 1은 더하는게 더 크고, 나머지는 곱하는게 결과가 더 클 것이라는 생각."
   ]
  },
  {
   "cell_type": "code",
   "execution_count": 11,
   "metadata": {},
   "outputs": [
    {
     "name": "stdout",
     "output_type": "stream",
     "text": [
      "567\n",
      "210\n"
     ]
    }
   ],
   "source": [
    "n = list(map(int, input()))\n",
    "a = n[0]\n",
    "\n",
    "for b in n[1:]:\n",
    "    if (0 not in [a, b]) and (1 not in [a, b]):\n",
    "        a *= b\n",
    "    else:\n",
    "        a += b\n",
    "\n",
    "print(a)"
   ]
  },
  {
   "cell_type": "markdown",
   "metadata": {},
   "source": [
    "## 문제4. 모험가 길드"
   ]
  },
  {
   "cell_type": "markdown",
   "metadata": {},
   "source": [
    "문제 설명\n",
    "* N명의 모험가에 대한 공포도 정보가 주어졌을 때, 최대 몇개 그룹이 여행을 떠날 수 있는가?\n",
    "* 단, 한 그룹 내에서 공포도가 x인 모험가는 반드시 x명 이상으로 구성되어야 함.\n",
    "---\n",
    "풀이 전략\n",
    "* 개인\n",
    "    * 공포도가 낮은 모험가부터 그룹 구성\n",
    "* 답안 예시\n",
    "    * 공포도 낮은 모험가부터 구성\n",
    "    * 그룹인원수 >= 공포도"
   ]
  },
  {
   "cell_type": "code",
   "execution_count": 17,
   "metadata": {},
   "outputs": [
    {
     "name": "stdout",
     "output_type": "stream",
     "text": [
      "5\n",
      "2 3 1 2 2\n",
      "2\n"
     ]
    }
   ],
   "source": [
    "# 내 코드\n",
    "n = int(input())\n",
    "s = list(map(int, input().split()))\n",
    "s.sort()\n",
    "cnt = 0\n",
    "g = []\n",
    "for i in range(len(s)):\n",
    "    if s[i] > len(g) + 1:\n",
    "        g.append(s[i])\n",
    "    else:\n",
    "        cnt += 1\n",
    "        g = []\n",
    "    \n",
    "print(cnt)\n"
   ]
  },
  {
   "cell_type": "code",
   "execution_count": 25,
   "metadata": {},
   "outputs": [
    {
     "name": "stdout",
     "output_type": "stream",
     "text": [
      "5\n",
      "2 3 1 2 2\n",
      "2\n"
     ]
    }
   ],
   "source": [
    "# 답안 예시\n",
    "n = int(input())\n",
    "s = list(map(int, input().split()))\n",
    "s.sort()\n",
    "\n",
    "cnt = 0\n",
    "g = 0\n",
    "\n",
    "for i in s:\n",
    "    g += 1        # 그룹 인원수 추가\n",
    "    if g >= i:    # 인원수 >= 공포도 조사 (i가 그룹 내 최대 공포도이므로 가능)\n",
    "        cnt += 1\n",
    "        g = 0\n",
    "print(cnt)\n"
   ]
  },
  {
   "cell_type": "markdown",
   "metadata": {},
   "source": [
    "# 구현 (Implementation)"
   ]
  },
  {
   "cell_type": "markdown",
   "metadata": {},
   "source": [
    "## 문제1. 상하좌우"
   ]
  },
  {
   "cell_type": "markdown",
   "metadata": {},
   "source": [
    "문제 설명\n",
    "* 첫째 줄에 공간 크기를 나타내는 N이 주어진다.\n",
    "* 둘째 줄에 여행가 A가 이동할 계획서 내용이 주어진다. (U, D, L, R)\n",
    "* 이때 여행가 A가 최종적으로 도착할 지점의 좌표를 출력하라 (시작 좌표 : 1 1)\n",
    "---\n",
    "풀이 전략\n",
    "* 내 풀이\n",
    "    * 계획서 내용에 따라 좌표 이동\n",
    "    * 이동 후의 좌표가 범위를 벗어나지 않을 때에만 이동 적용\n",
    "* 답안 예시\n",
    "    * 리스트의 순서를 활용한것같음"
   ]
  },
  {
   "cell_type": "code",
   "execution_count": 30,
   "metadata": {},
   "outputs": [
    {
     "name": "stdout",
     "output_type": "stream",
     "text": [
      "5\n",
      "R R R U D D\n",
      "3 4\n"
     ]
    }
   ],
   "source": [
    "# 답 보기전 코드\n",
    "n = int(input())\n",
    "move = input().split()\n",
    "a = [1, 1]\n",
    "\n",
    "for m in move:\n",
    "    a_next = a[:]        # 다른 주소를 사용하기 위해 slice 활용\n",
    "    if m =='U':\n",
    "        a_next[0] -= 1\n",
    "    elif m == 'D':\n",
    "        a_next[0] += 1\n",
    "    elif m == 'L':\n",
    "        a_next[1] -= 1\n",
    "    elif m == 'R':\n",
    "        a_next[1] += 1\n",
    "        \n",
    "    if (0 < a_next[0] <= n) and (0 < a_next[1] <= n):\n",
    "        a = a_next\n",
    "\n",
    "print(a[0], a[1])"
   ]
  },
  {
   "cell_type": "code",
   "execution_count": 27,
   "metadata": {},
   "outputs": [
    {
     "name": "stdout",
     "output_type": "stream",
     "text": [
      "5\n",
      "R R R U D D\n",
      "3 4\n"
     ]
    }
   ],
   "source": [
    "# 답안 보고 난 코드\n",
    "n = int(input())\n",
    "move = input().split()\n",
    "x, y = 1, 1\n",
    "\n",
    "for m in move:\n",
    "    nx, ny = x, y\n",
    "    if m =='U':\n",
    "        nx -= 1\n",
    "    elif m == 'D':\n",
    "        nx += 1\n",
    "    elif m == 'L':\n",
    "        ny -= 1\n",
    "    elif m == 'R':\n",
    "        ny += 1\n",
    "        \n",
    "    if (0 < nx <= n) and (0 < ny <= n):\n",
    "        x, y = nx, ny\n",
    "\n",
    "print(x, y)"
   ]
  },
  {
   "cell_type": "markdown",
   "metadata": {},
   "source": [
    "## 문제2. 시각"
   ]
  },
  {
   "cell_type": "markdown",
   "metadata": {},
   "source": [
    "문제 설명\n",
    "* 00시 00분 00초 ~ N시 59분 59초까지의 모든 시각 중 3이 하나라도 포함되는 시각의 개수를 구하자.\n",
    "    * 0 <= N <= 23\n",
    "---\n",
    "풀이 전략\n",
    "* 내 풀이\n",
    "    * 나올 수 있는 모든 시각의 가짓수에서 3이 하나도 없는 시각의 가짓수를 뺀다.\n",
    "        * 시간에 3이 안들어간 가짓수 -> N에 따라 바뀜\n",
    "        * 분, 초에 3이 안들어간 가짓수 -> N과 무관\n",
    "* 답안 예시\n",
    "    * 직접 센다"
   ]
  },
  {
   "cell_type": "code",
   "execution_count": 29,
   "metadata": {},
   "outputs": [
    {
     "name": "stdout",
     "output_type": "stream",
     "text": [
      "5\n",
      "11475\n"
     ]
    }
   ],
   "source": [
    "# 내 풀이\n",
    "n = int(input())\n",
    "\n",
    "# 3이 안들어간 시간의 수를 세기\n",
    "h = 0\n",
    "for i in range(n+1):\n",
    "    if '3' not in str(i):\n",
    "        h += 1\n",
    "        \n",
    "# 3이 안들어간 분, 초의 수를 세기\n",
    "ms = 5*9*5*9\n",
    "\n",
    "# 전체 경우의수에서 3이 안들어간 경우의수 빼기\n",
    "result = (n+1)*(6*10*6*10) - h*5*9*5*9\n",
    "\n",
    "print(result)"
   ]
  },
  {
   "cell_type": "code",
   "execution_count": 33,
   "metadata": {},
   "outputs": [
    {
     "name": "stdout",
     "output_type": "stream",
     "text": [
      "5\n",
      "11475\n"
     ]
    }
   ],
   "source": [
    "# 답안 예시 풀이\n",
    "n = int(input())\n",
    "cnt = 0\n",
    "\n",
    "for h in range(n+1):\n",
    "    for m in range(60):\n",
    "        for s in range(60):\n",
    "            if '3' in f'{h}{m}{s}':\n",
    "                cnt +=1\n",
    "\n",
    "print(cnt)"
   ]
  },
  {
   "cell_type": "markdown",
   "metadata": {},
   "source": [
    "## 문제3. 왕실의 나이트"
   ]
  },
  {
   "cell_type": "markdown",
   "metadata": {},
   "source": [
    "문제 설명\n",
    "* 8x8 좌표에서, 나이트의 좌표가 주어졌을 때 나이트가 이동할 수 있는 경우의 수 출력하기\n",
    "    * 나이트의 이동 : 수평2 수직1 or 수평1 수직2 이동\n",
    "* 예시\n",
    "    * 입력 : a1\n",
    "    * 출력 : 2\n",
    "---\n",
    "풀이 전략\n",
    "* 내 풀이\n",
    "    * 직접 노가다 계산"
   ]
  },
  {
   "cell_type": "code",
   "execution_count": 39,
   "metadata": {},
   "outputs": [
    {
     "name": "stdout",
     "output_type": "stream",
     "text": [
      "a1\n",
      "2\n"
     ]
    }
   ],
   "source": [
    "# 내 풀이\n",
    "x, y = input()\n",
    "\n",
    "# x,y 좌표를 int형 숫자로 변경\n",
    "x = ' abcdefgh'.find(x)\n",
    "y = int(y)\n",
    "\n",
    "dx = [-2, -2 ,-1, -1, 1, 1, 2, 2]\n",
    "dy = [-1, 1, -2, 2, -2, 2, -1, 1]\n",
    "cnt = 0\n",
    "\n",
    "for i in range(8):\n",
    "    nx = x + dx[i]\n",
    "    ny = y + dy[i]\n",
    "    \n",
    "    if (0<nx<9) and (0<ny<9):\n",
    "        cnt += 1\n",
    "\n",
    "print(cnt)"
   ]
  },
  {
   "cell_type": "markdown",
   "metadata": {},
   "source": [
    "## 문제4. 문자열 재정렬"
   ]
  },
  {
   "cell_type": "markdown",
   "metadata": {},
   "source": [
    "문제 설명\n",
    "* 알파벳대문자와 숫자가 섞인 문자열을 '알파벳 오름차순 + 모든 숫자 더한 값'으로 바꾸기\n",
    "* 예시\n",
    "    * 입력 : K1KA5CB7\n",
    "    * 출력 : ABCKK13\n",
    "---\n",
    "풀이 전략\n",
    "* 내 풀이\n",
    "    * 알파벳인지 숫자인지 구별하기\n",
    "        * 알파벳은 아스키 코드 순서로 나열하기\n",
    "        * 숫자는 합하기"
   ]
  },
  {
   "cell_type": "code",
   "execution_count": 44,
   "metadata": {},
   "outputs": [
    {
     "name": "stdout",
     "output_type": "stream",
     "text": [
      "K1KA5CB7\n",
      "ABCKK13\n"
     ]
    }
   ],
   "source": [
    "# 내 풀이\n",
    "a = input()\n",
    "\n",
    "letter = []\n",
    "num = 0\n",
    "\n",
    "for k in a:\n",
    "    try:\n",
    "        tmp = int(k)\n",
    "        num += tmp\n",
    "    except:\n",
    "        tmp = k\n",
    "        letter.append(k)\n",
    "\n",
    "letter.sort()\n",
    "sort_letter = ''.join(letter)\n",
    "print(f'{sort_letter}{num}')\n",
    "\n",
    "# -> 숫자가 없을 때를 고려하지 않은 코드인데, 문제에서 숫자가 무조건 있다는 말이 없다..?"
   ]
  },
  {
   "cell_type": "code",
   "execution_count": 45,
   "metadata": {},
   "outputs": [
    {
     "name": "stdout",
     "output_type": "stream",
     "text": [
      "K1KA5CB7\n",
      "ABCKK13\n"
     ]
    }
   ],
   "source": [
    "# 답안 예시\n",
    "data = input()\n",
    "result = []\n",
    "value = 0\n",
    "\n",
    "for x in data:\n",
    "    if x.isalpha():\n",
    "        result.append(x)\n",
    "    else:\n",
    "        value += int(x)\n",
    "\n",
    "result.sort()\n",
    "\n",
    "if value != 0:\n",
    "    result.append(str(value))\n",
    "\n",
    "print(''.join(result))"
   ]
  },
  {
   "cell_type": "code",
   "execution_count": null,
   "metadata": {},
   "outputs": [],
   "source": []
  }
 ],
 "metadata": {
  "interpreter": {
   "hash": "ee2a4fcba8375ec4d893a94abb01f8d4d7cdf8f79e9761ff0e24b495885cb191"
  },
  "kernelspec": {
   "display_name": "Python 3",
   "language": "python",
   "name": "python3"
  },
  "language_info": {
   "codemirror_mode": {
    "name": "ipython",
    "version": 3
   },
   "file_extension": ".py",
   "mimetype": "text/x-python",
   "name": "python",
   "nbconvert_exporter": "python",
   "pygments_lexer": "ipython3",
   "version": "3.8.5"
  }
 },
 "nbformat": 4,
 "nbformat_minor": 2
}
